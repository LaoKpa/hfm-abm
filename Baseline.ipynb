{
 "cells": [
  {
   "cell_type": "code",
   "execution_count": 1,
   "metadata": {
    "collapsed": true
   },
   "outputs": [],
   "source": [
    "%matplotlib inline\n",
    "import numpy as np\n",
    "import pandas as pd\n",
    "import matplotlib.pyplot as plt\n",
    "from init_objects import *\n",
    "from hft_model import *"
   ]
  },
  {
   "cell_type": "markdown",
   "metadata": {},
   "source": [
    "# Baseline simulation\n",
    "\n",
    "Simulate the baseline model dynamics to produce data on:\n",
    "\n",
    "1. Price\n",
    "2. Returns\n",
    "3. Volume\n",
    "4. Orderbook depth\n",
    "5. Percentage of trades by HFT vs LFT\n",
    "6. HFT profitability "
   ]
  },
  {
   "cell_type": "code",
   "execution_count": 2,
   "metadata": {
    "collapsed": true
   },
   "outputs": [],
   "source": [
    "NRUNS = 10"
   ]
  },
  {
   "cell_type": "code",
   "execution_count": 5,
   "metadata": {
    "collapsed": true
   },
   "outputs": [],
   "source": [
    "parameters = {\n",
    "    # global parameters\n",
    "    \"n_lft\": 50,\n",
    "    \"n_hft\": 5,\n",
    "    \"ticks\": 1000,\n",
    "    \"fundamental_value\": 10,\n",
    "    \"lft_sample_size\": 0.2,\n",
    "    \"hft_sample_size\": 0.6,\n",
    "    \"std_noise\": 0.01,\n",
    "    \"std_LFT_price\": 0.01,\n",
    "    \"std_LFT_vol\": 4,\n",
    "    \"std_HFT_vol\": 4,\n",
    "    \"return_on_investment\": 0.5,\n",
    "    \"investment_frequency\": 100,\n",
    "    # lft parameters\n",
    "    \"w_fundamentalists\": 1,\n",
    "    \"w_chartists\": 10,\n",
    "    \"w_random\": 1,\n",
    "    # hft parameters\n",
    "    \"inventory_target\": 20,\n",
    "    \"minimum_price_increment\":0.1,\n",
    "    \"investment_fraction\":0.4,\n",
    "    # initial values\n",
    "    \"wealth\": 300,\n",
    "    \"horizon_min\": 1,\n",
    "    \"horizon_max\": 4,\n",
    "    \"av_return_interval_max\": 4,\n",
    "    \"init_price\": 1,\n",
    "    \"agent_order_price_variability\": (1,1),\n",
    "    \"total_hft_money\": 200,\n",
    "    \"hft_speed\": 1,\n",
    "    \"hft_init_investment\": 0\n",
    "}"
   ]
  },
  {
   "cell_type": "markdown",
   "metadata": {},
   "source": [
    "## Run model"
   ]
  },
  {
   "cell_type": "code",
   "execution_count": 6,
   "metadata": {
    "collapsed": true
   },
   "outputs": [],
   "source": [
    "# 1 initalise model objects\n",
    "high_frequency_traders, low_frequency_traders, orderbook = init_objects(parameters)"
   ]
  },
  {
   "cell_type": "code",
   "execution_count": 7,
   "metadata": {
    "collapsed": true
   },
   "outputs": [],
   "source": [
    "hfms = []\n",
    "lfts = []\n",
    "orderbooks = []\n",
    "for seed in range(NRUNS): # optional, remove tqdm(), it is used for the progress bar\n",
    "    hft, lft, ob = hft_model(high_frequency_traders, low_frequency_traders, orderbook, parameters, seed)\n",
    "    hfms.append(hft)\n",
    "    lfts.append(lft)\n",
    "    orderbooks.append(ob)"
   ]
  },
  {
   "cell_type": "markdown",
   "metadata": {},
   "source": [
    "## Retrieve data"
   ]
  },
  {
   "cell_type": "code",
   "execution_count": 10,
   "metadata": {
    "collapsed": true
   },
   "outputs": [],
   "source": [
    "average_tick_price = []\n",
    "total_tick_volume = []\n",
    "returns = []\n",
    "autocorr_returns = []\n",
    "absolute_returns = []\n",
    "autocorr_abs_returns = []\n",
    "for idx, orderbook in enumerate(orderbooks):\n",
    "    average_tick_price.append([np.mean(prices) for prices in orderbook.transaction_prices_history])\n",
    "    total_tick_volume.append([sum(volumes) for volumes in orderbook.transaction_volumes_history])\n",
    "    returns.append(pd.Series(np.array(average_tick_price[idx])).pct_change())\n",
    "    autocorr_returns.append([pd.Series(returns[idx]).autocorr(lag=lag) for lag in range(25)])\n",
    "    absolute_returns.append(pd.Series(returns[idx]).abs())\n",
    "    autocorr_abs_returns.append([absolute_returns[idx].autocorr(lag=lag) for lag in range(25)])"
   ]
  },
  {
   "cell_type": "code",
   "execution_count": null,
   "metadata": {
    "collapsed": true
   },
   "outputs": [],
   "source": []
  }
 ],
 "metadata": {
  "kernelspec": {
   "display_name": "Python 3",
   "language": "python",
   "name": "python3"
  },
  "language_info": {
   "codemirror_mode": {
    "name": "ipython",
    "version": 3
   },
   "file_extension": ".py",
   "mimetype": "text/x-python",
   "name": "python",
   "nbconvert_exporter": "python",
   "pygments_lexer": "ipython3",
   "version": "3.5.2"
  }
 },
 "nbformat": 4,
 "nbformat_minor": 0
}
